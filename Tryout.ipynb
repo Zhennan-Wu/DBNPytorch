{
 "cells": [
  {
   "cell_type": "code",
   "execution_count": 2,
   "id": "0ddfdea6-287a-48a1-aed6-a10e6dd2af20",
   "metadata": {},
   "outputs": [],
   "source": [
    "import torch\n",
    "import torchvision\n",
    "import torchvision.transforms as transforms"
   ]
  },
  {
   "cell_type": "code",
   "execution_count": 11,
   "id": "10a878cd-d4a0-40df-900a-539d7084b0d9",
   "metadata": {},
   "outputs": [
    {
     "name": "stdout",
     "output_type": "stream",
     "text": [
      "Files already downloaded and verified\n",
      "Files already downloaded and verified\n"
     ]
    }
   ],
   "source": [
    "transform = transforms.Compose(\n",
    "    [transforms.ToTensor(),\n",
    "     transforms.Normalize((0.5, 0.5, 0.5), (0.5, 0.5, 0.5))])\n",
    "\n",
    "batch_size = 50000\n",
    "\n",
    "trainset = torchvision.datasets.CIFAR10(root='./data', train=True,\n",
    "                                        download=True, transform=transform)\n",
    "trainloader = torch.utils.data.DataLoader(trainset, batch_size=batch_size,\n",
    "                                          shuffle=True, num_workers=2)\n",
    "\n",
    "testset = torchvision.datasets.CIFAR10(root='./data', train=False,\n",
    "                                       download=True, transform=transform)\n",
    "testloader = torch.utils.data.DataLoader(testset, batch_size=batch_size,\n",
    "                                         shuffle=False, num_workers=2)\n",
    "\n",
    "classes = ('plane', 'car', 'bird', 'cat',\n",
    "           'deer', 'dog', 'frog', 'horse', 'ship', 'truck')"
   ]
  },
  {
   "cell_type": "code",
   "execution_count": 26,
   "id": "1665eafb-04c3-4fce-b72d-dfe8b99f608c",
   "metadata": {},
   "outputs": [
    {
     "name": "stdout",
     "output_type": "stream",
     "text": [
      "2\n",
      "torch.Size([10000, 3, 32, 32])\n",
      "torch.Size([10000])\n",
      "tensor([[[ 0.2392,  0.2471,  0.2941,  ...,  0.0745, -0.0118, -0.0902],\n",
      "         [ 0.1922,  0.1843,  0.2471,  ...,  0.0667, -0.0196, -0.0667],\n",
      "         [ 0.1843,  0.1843,  0.2392,  ...,  0.0902,  0.0196, -0.0588],\n",
      "         ...,\n",
      "         [-0.4667, -0.6706, -0.7569,  ..., -0.7020, -0.8980, -0.6863],\n",
      "         [-0.5216, -0.6157, -0.7255,  ..., -0.7961, -0.7725, -0.8431],\n",
      "         [-0.5765, -0.5608, -0.6471,  ..., -0.8118, -0.7333, -0.8353]],\n",
      "\n",
      "        [[-0.1216, -0.1294, -0.0902,  ..., -0.2549, -0.2863, -0.3333],\n",
      "         [-0.1216, -0.1373, -0.1059,  ..., -0.2549, -0.2863, -0.3098],\n",
      "         [-0.1373, -0.1451, -0.1294,  ..., -0.2314, -0.2549, -0.3020],\n",
      "         ...,\n",
      "         [-0.0275, -0.2157, -0.3098,  ..., -0.2392, -0.4980, -0.3333],\n",
      "         [-0.0902, -0.2000, -0.3333,  ..., -0.3569, -0.3569, -0.4980],\n",
      "         [-0.1608, -0.1765, -0.3020,  ..., -0.3961, -0.3412, -0.4745]],\n",
      "\n",
      "        [[-0.6157, -0.6314, -0.6000,  ..., -0.7176, -0.7176, -0.7412],\n",
      "         [-0.6000, -0.6863, -0.6471,  ..., -0.7569, -0.7490, -0.7333],\n",
      "         [-0.6314, -0.7412, -0.7176,  ..., -0.7333, -0.7333, -0.7412],\n",
      "         ...,\n",
      "         [ 0.3882,  0.1608,  0.0745,  ...,  0.1451, -0.1529, -0.0039],\n",
      "         [ 0.3176,  0.1608,  0.0353,  ...,  0.0196, -0.0118, -0.1608],\n",
      "         [ 0.2549,  0.1686,  0.0353,  ..., -0.0275,  0.0118, -0.1373]]])\n",
      "tensor([[ 0.2392,  0.2471,  0.2941,  ...,  0.0745, -0.0118, -0.0902],\n",
      "        [ 0.1922,  0.1843,  0.2471,  ...,  0.0667, -0.0196, -0.0667],\n",
      "        [ 0.1843,  0.1843,  0.2392,  ...,  0.0902,  0.0196, -0.0588],\n",
      "        ...,\n",
      "        [-0.4667, -0.6706, -0.7569,  ..., -0.7020, -0.8980, -0.6863],\n",
      "        [-0.5216, -0.6157, -0.7255,  ..., -0.7961, -0.7725, -0.8431],\n",
      "        [-0.5765, -0.5608, -0.6471,  ..., -0.8118, -0.7333, -0.8353]])\n",
      "1\n"
     ]
    }
   ],
   "source": [
    "i = 0\n",
    "for k in testloader:\n",
    "    i += 1\n",
    "    print(len(k))\n",
    "    print(k[0].shape)\n",
    "    print(k[1].shape)\n",
    "    print(k[0][0])\n",
    "    t = k[0].reshape(k[0].shape[0], -1)\n",
    "    print(k[0][0][0])\n",
    "print(i)"
   ]
  },
  {
   "cell_type": "code",
   "execution_count": 27,
   "id": "5076bc09-4ddb-4889-9b31-7ff040145259",
   "metadata": {},
   "outputs": [
    {
     "data": {
      "text/plain": [
       "torch.Size([32, 32])"
      ]
     },
     "execution_count": 27,
     "metadata": {},
     "output_type": "execute_result"
    }
   ],
   "source": [
    "k[0][0][0]"
   ]
  },
  {
   "cell_type": "code",
   "execution_count": 28,
   "id": "28c96b48-1718-49dd-b047-39037e5f0163",
   "metadata": {},
   "outputs": [
    {
     "name": "stdout",
     "output_type": "stream",
     "text": [
      "tensor([[ 0.2392,  0.2471,  0.2941,  ..., -0.0275,  0.0118, -0.1373],\n",
      "        [ 0.8431,  0.8118,  0.8196,  ...,  0.3961,  0.4980,  0.5608],\n",
      "        [ 0.2392,  0.2392,  0.0902,  ..., -0.9373, -0.9765, -0.9451],\n",
      "        ...,\n",
      "        [ 0.1059, -0.1765, -0.1843,  ..., -0.4902, -0.5137, -0.5294],\n",
      "        [ 0.6471,  0.6235,  0.6157,  ...,  0.5686,  0.5922,  0.6157],\n",
      "        [-0.2000, -0.1373,  0.0353,  ...,  0.9216,  0.8824,  0.6314]])\n"
     ]
    }
   ],
   "source": [
    "print(t[0:1024])"
   ]
  },
  {
   "cell_type": "code",
   "execution_count": 14,
   "id": "97aba092-4329-40d6-879e-7d8b63435c53",
   "metadata": {},
   "outputs": [],
   "source": [
    "import numpy as np\n",
    "import torch\n",
    "import random\n",
    "from DBN import DBN\n",
    "from load_dataset import MNIST\n",
    "from tqdm import trange\n",
    "import pandas as pd\n",
    "\n",
    "mnist = MNIST()\n",
    "train_x, train_y, test_x, test_y = mnist.load_dataset()"
   ]
  },
  {
   "cell_type": "code",
   "execution_count": 15,
   "id": "8ecf5f43-05f7-4ada-bcba-99c3199972d1",
   "metadata": {},
   "outputs": [
    {
     "data": {
      "text/plain": [
       "torch.Size([27720, 784])"
      ]
     },
     "execution_count": 15,
     "metadata": {},
     "output_type": "execute_result"
    }
   ],
   "source": [
    "train_x.shape"
   ]
  },
  {
   "cell_type": "code",
   "execution_count": 16,
   "id": "a3c6582b-35d5-4c06-9522-90756fdca3de",
   "metadata": {},
   "outputs": [
    {
     "data": {
      "text/plain": [
       "torch.Size([27720])"
      ]
     },
     "execution_count": 16,
     "metadata": {},
     "output_type": "execute_result"
    }
   ],
   "source": [
    "train_y.shape"
   ]
  },
  {
   "cell_type": "code",
   "execution_count": null,
   "id": "3730f102-2b7a-4beb-bfe3-20d149efd05e",
   "metadata": {},
   "outputs": [],
   "source": []
  }
 ],
 "metadata": {
  "kernelspec": {
   "display_name": "Python [conda env:pytorch]",
   "language": "python",
   "name": "conda-env-pytorch-py"
  },
  "language_info": {
   "codemirror_mode": {
    "name": "ipython",
    "version": 3
   },
   "file_extension": ".py",
   "mimetype": "text/x-python",
   "name": "python",
   "nbconvert_exporter": "python",
   "pygments_lexer": "ipython3",
   "version": "3.10.10"
  }
 },
 "nbformat": 4,
 "nbformat_minor": 5
}
